{
 "cells": [
  {
   "cell_type": "code",
   "execution_count": 1,
   "id": "fdf52433",
   "metadata": {},
   "outputs": [],
   "source": [
    "import pandas as pd\n",
    "import numpy as np\n",
    "import matplotlib.pyplot as plt\n",
    "import seaborn as sns\n",
    "%matplotlib inline"
   ]
  },
  {
   "cell_type": "code",
   "execution_count": 2,
   "id": "17fd92f8",
   "metadata": {},
   "outputs": [
    {
     "data": {
      "text/html": [
       "<div>\n",
       "<style scoped>\n",
       "    .dataframe tbody tr th:only-of-type {\n",
       "        vertical-align: middle;\n",
       "    }\n",
       "\n",
       "    .dataframe tbody tr th {\n",
       "        vertical-align: top;\n",
       "    }\n",
       "\n",
       "    .dataframe thead th {\n",
       "        text-align: right;\n",
       "    }\n",
       "</style>\n",
       "<table border=\"1\" class=\"dataframe\">\n",
       "  <thead>\n",
       "    <tr style=\"text-align: right;\">\n",
       "      <th></th>\n",
       "      <th>dummy_srlno</th>\n",
       "      <th>marks</th>\n",
       "      <th>state</th>\n",
       "      <th>city</th>\n",
       "      <th>center_name</th>\n",
       "      <th>center_number</th>\n",
       "    </tr>\n",
       "  </thead>\n",
       "  <tbody>\n",
       "    <tr>\n",
       "      <th>0</th>\n",
       "      <td>1101010001</td>\n",
       "      <td>46</td>\n",
       "      <td>ANDAMAN AND NICOBAR ISLANDS (UT)</td>\n",
       "      <td>PORT BLAIR</td>\n",
       "      <td>KENDRIYA VIDYALAYA NO. 1</td>\n",
       "      <td>110101</td>\n",
       "    </tr>\n",
       "    <tr>\n",
       "      <th>1</th>\n",
       "      <td>1101010002</td>\n",
       "      <td>226</td>\n",
       "      <td>ANDAMAN AND NICOBAR ISLANDS (UT)</td>\n",
       "      <td>PORT BLAIR</td>\n",
       "      <td>KENDRIYA VIDYALAYA NO. 1</td>\n",
       "      <td>110101</td>\n",
       "    </tr>\n",
       "    <tr>\n",
       "      <th>2</th>\n",
       "      <td>1101010003</td>\n",
       "      <td>449</td>\n",
       "      <td>ANDAMAN AND NICOBAR ISLANDS (UT)</td>\n",
       "      <td>PORT BLAIR</td>\n",
       "      <td>KENDRIYA VIDYALAYA NO. 1</td>\n",
       "      <td>110101</td>\n",
       "    </tr>\n",
       "    <tr>\n",
       "      <th>3</th>\n",
       "      <td>1101010004</td>\n",
       "      <td>424</td>\n",
       "      <td>ANDAMAN AND NICOBAR ISLANDS (UT)</td>\n",
       "      <td>PORT BLAIR</td>\n",
       "      <td>KENDRIYA VIDYALAYA NO. 1</td>\n",
       "      <td>110101</td>\n",
       "    </tr>\n",
       "    <tr>\n",
       "      <th>4</th>\n",
       "      <td>1101010005</td>\n",
       "      <td>222</td>\n",
       "      <td>ANDAMAN AND NICOBAR ISLANDS (UT)</td>\n",
       "      <td>PORT BLAIR</td>\n",
       "      <td>KENDRIYA VIDYALAYA NO. 1</td>\n",
       "      <td>110101</td>\n",
       "    </tr>\n",
       "    <tr>\n",
       "      <th>...</th>\n",
       "      <td>...</td>\n",
       "      <td>...</td>\n",
       "      <td>...</td>\n",
       "      <td>...</td>\n",
       "      <td>...</td>\n",
       "      <td>...</td>\n",
       "    </tr>\n",
       "    <tr>\n",
       "      <th>2333115</th>\n",
       "      <td>4613120135</td>\n",
       "      <td>279</td>\n",
       "      <td>WEST BENGAL</td>\n",
       "      <td>KALYANI</td>\n",
       "      <td>CHAKDAHA MODEL SCHOOL</td>\n",
       "      <td>461312</td>\n",
       "    </tr>\n",
       "    <tr>\n",
       "      <th>2333116</th>\n",
       "      <td>4613120136</td>\n",
       "      <td>102</td>\n",
       "      <td>WEST BENGAL</td>\n",
       "      <td>KALYANI</td>\n",
       "      <td>CHAKDAHA MODEL SCHOOL</td>\n",
       "      <td>461312</td>\n",
       "    </tr>\n",
       "    <tr>\n",
       "      <th>2333117</th>\n",
       "      <td>4613120137</td>\n",
       "      <td>14</td>\n",
       "      <td>WEST BENGAL</td>\n",
       "      <td>KALYANI</td>\n",
       "      <td>CHAKDAHA MODEL SCHOOL</td>\n",
       "      <td>461312</td>\n",
       "    </tr>\n",
       "    <tr>\n",
       "      <th>2333118</th>\n",
       "      <td>4613120138</td>\n",
       "      <td>179</td>\n",
       "      <td>WEST BENGAL</td>\n",
       "      <td>KALYANI</td>\n",
       "      <td>CHAKDAHA MODEL SCHOOL</td>\n",
       "      <td>461312</td>\n",
       "    </tr>\n",
       "    <tr>\n",
       "      <th>2333119</th>\n",
       "      <td>4613120139</td>\n",
       "      <td>91</td>\n",
       "      <td>WEST BENGAL</td>\n",
       "      <td>KALYANI</td>\n",
       "      <td>CHAKDAHA MODEL SCHOOL</td>\n",
       "      <td>461312</td>\n",
       "    </tr>\n",
       "  </tbody>\n",
       "</table>\n",
       "<p>2333120 rows × 6 columns</p>\n",
       "</div>"
      ],
      "text/plain": [
       "         dummy_srlno  marks                             state        city  \\\n",
       "0         1101010001     46  ANDAMAN AND NICOBAR ISLANDS (UT)  PORT BLAIR   \n",
       "1         1101010002    226  ANDAMAN AND NICOBAR ISLANDS (UT)  PORT BLAIR   \n",
       "2         1101010003    449  ANDAMAN AND NICOBAR ISLANDS (UT)  PORT BLAIR   \n",
       "3         1101010004    424  ANDAMAN AND NICOBAR ISLANDS (UT)  PORT BLAIR   \n",
       "4         1101010005    222  ANDAMAN AND NICOBAR ISLANDS (UT)  PORT BLAIR   \n",
       "...              ...    ...                               ...         ...   \n",
       "2333115   4613120135    279                       WEST BENGAL     KALYANI   \n",
       "2333116   4613120136    102                       WEST BENGAL     KALYANI   \n",
       "2333117   4613120137     14                       WEST BENGAL     KALYANI   \n",
       "2333118   4613120138    179                       WEST BENGAL     KALYANI   \n",
       "2333119   4613120139     91                       WEST BENGAL     KALYANI   \n",
       "\n",
       "                      center_name  center_number  \n",
       "0        KENDRIYA VIDYALAYA NO. 1         110101  \n",
       "1        KENDRIYA VIDYALAYA NO. 1         110101  \n",
       "2        KENDRIYA VIDYALAYA NO. 1         110101  \n",
       "3        KENDRIYA VIDYALAYA NO. 1         110101  \n",
       "4        KENDRIYA VIDYALAYA NO. 1         110101  \n",
       "...                           ...            ...  \n",
       "2333115     CHAKDAHA MODEL SCHOOL         461312  \n",
       "2333116     CHAKDAHA MODEL SCHOOL         461312  \n",
       "2333117     CHAKDAHA MODEL SCHOOL         461312  \n",
       "2333118     CHAKDAHA MODEL SCHOOL         461312  \n",
       "2333119     CHAKDAHA MODEL SCHOOL         461312  \n",
       "\n",
       "[2333120 rows x 6 columns]"
      ]
     },
     "execution_count": 2,
     "metadata": {},
     "output_type": "execute_result"
    }
   ],
   "source": [
    "import pandas as pd\n",
    "nt = pd.read_csv(\"ML/NEET_2024_RESULTS.csv\")\n",
    "nt"
   ]
  },
  {
   "cell_type": "code",
   "execution_count": 3,
   "id": "531fa7b8",
   "metadata": {},
   "outputs": [
    {
     "data": {
      "text/html": [
       "<div>\n",
       "<style scoped>\n",
       "    .dataframe tbody tr th:only-of-type {\n",
       "        vertical-align: middle;\n",
       "    }\n",
       "\n",
       "    .dataframe tbody tr th {\n",
       "        vertical-align: top;\n",
       "    }\n",
       "\n",
       "    .dataframe thead th {\n",
       "        text-align: right;\n",
       "    }\n",
       "</style>\n",
       "<table border=\"1\" class=\"dataframe\">\n",
       "  <thead>\n",
       "    <tr style=\"text-align: right;\">\n",
       "      <th></th>\n",
       "      <th>dummy_srlno</th>\n",
       "      <th>marks</th>\n",
       "      <th>state</th>\n",
       "      <th>city</th>\n",
       "      <th>center_name</th>\n",
       "      <th>center_number</th>\n",
       "    </tr>\n",
       "  </thead>\n",
       "  <tbody>\n",
       "    <tr>\n",
       "      <th>0</th>\n",
       "      <td>1101010001</td>\n",
       "      <td>46</td>\n",
       "      <td>ANDAMAN AND NICOBAR ISLANDS (UT)</td>\n",
       "      <td>PORT BLAIR</td>\n",
       "      <td>KENDRIYA VIDYALAYA NO. 1</td>\n",
       "      <td>110101</td>\n",
       "    </tr>\n",
       "    <tr>\n",
       "      <th>1</th>\n",
       "      <td>1101010002</td>\n",
       "      <td>226</td>\n",
       "      <td>ANDAMAN AND NICOBAR ISLANDS (UT)</td>\n",
       "      <td>PORT BLAIR</td>\n",
       "      <td>KENDRIYA VIDYALAYA NO. 1</td>\n",
       "      <td>110101</td>\n",
       "    </tr>\n",
       "    <tr>\n",
       "      <th>2</th>\n",
       "      <td>1101010003</td>\n",
       "      <td>449</td>\n",
       "      <td>ANDAMAN AND NICOBAR ISLANDS (UT)</td>\n",
       "      <td>PORT BLAIR</td>\n",
       "      <td>KENDRIYA VIDYALAYA NO. 1</td>\n",
       "      <td>110101</td>\n",
       "    </tr>\n",
       "    <tr>\n",
       "      <th>3</th>\n",
       "      <td>1101010004</td>\n",
       "      <td>424</td>\n",
       "      <td>ANDAMAN AND NICOBAR ISLANDS (UT)</td>\n",
       "      <td>PORT BLAIR</td>\n",
       "      <td>KENDRIYA VIDYALAYA NO. 1</td>\n",
       "      <td>110101</td>\n",
       "    </tr>\n",
       "    <tr>\n",
       "      <th>4</th>\n",
       "      <td>1101010005</td>\n",
       "      <td>222</td>\n",
       "      <td>ANDAMAN AND NICOBAR ISLANDS (UT)</td>\n",
       "      <td>PORT BLAIR</td>\n",
       "      <td>KENDRIYA VIDYALAYA NO. 1</td>\n",
       "      <td>110101</td>\n",
       "    </tr>\n",
       "  </tbody>\n",
       "</table>\n",
       "</div>"
      ],
      "text/plain": [
       "   dummy_srlno  marks                             state        city  \\\n",
       "0   1101010001     46  ANDAMAN AND NICOBAR ISLANDS (UT)  PORT BLAIR   \n",
       "1   1101010002    226  ANDAMAN AND NICOBAR ISLANDS (UT)  PORT BLAIR   \n",
       "2   1101010003    449  ANDAMAN AND NICOBAR ISLANDS (UT)  PORT BLAIR   \n",
       "3   1101010004    424  ANDAMAN AND NICOBAR ISLANDS (UT)  PORT BLAIR   \n",
       "4   1101010005    222  ANDAMAN AND NICOBAR ISLANDS (UT)  PORT BLAIR   \n",
       "\n",
       "                center_name  center_number  \n",
       "0  KENDRIYA VIDYALAYA NO. 1         110101  \n",
       "1  KENDRIYA VIDYALAYA NO. 1         110101  \n",
       "2  KENDRIYA VIDYALAYA NO. 1         110101  \n",
       "3  KENDRIYA VIDYALAYA NO. 1         110101  \n",
       "4  KENDRIYA VIDYALAYA NO. 1         110101  "
      ]
     },
     "execution_count": 3,
     "metadata": {},
     "output_type": "execute_result"
    }
   ],
   "source": [
    "nt.head()"
   ]
  },
  {
   "cell_type": "code",
   "execution_count": 4,
   "id": "65e98ae4",
   "metadata": {},
   "outputs": [
    {
     "data": {
      "text/html": [
       "<div>\n",
       "<style scoped>\n",
       "    .dataframe tbody tr th:only-of-type {\n",
       "        vertical-align: middle;\n",
       "    }\n",
       "\n",
       "    .dataframe tbody tr th {\n",
       "        vertical-align: top;\n",
       "    }\n",
       "\n",
       "    .dataframe thead th {\n",
       "        text-align: right;\n",
       "    }\n",
       "</style>\n",
       "<table border=\"1\" class=\"dataframe\">\n",
       "  <thead>\n",
       "    <tr style=\"text-align: right;\">\n",
       "      <th></th>\n",
       "      <th>dummy_srlno</th>\n",
       "      <th>marks</th>\n",
       "      <th>state</th>\n",
       "      <th>city</th>\n",
       "      <th>center_name</th>\n",
       "      <th>center_number</th>\n",
       "    </tr>\n",
       "  </thead>\n",
       "  <tbody>\n",
       "    <tr>\n",
       "      <th>2333115</th>\n",
       "      <td>4613120135</td>\n",
       "      <td>279</td>\n",
       "      <td>WEST BENGAL</td>\n",
       "      <td>KALYANI</td>\n",
       "      <td>CHAKDAHA MODEL SCHOOL</td>\n",
       "      <td>461312</td>\n",
       "    </tr>\n",
       "    <tr>\n",
       "      <th>2333116</th>\n",
       "      <td>4613120136</td>\n",
       "      <td>102</td>\n",
       "      <td>WEST BENGAL</td>\n",
       "      <td>KALYANI</td>\n",
       "      <td>CHAKDAHA MODEL SCHOOL</td>\n",
       "      <td>461312</td>\n",
       "    </tr>\n",
       "    <tr>\n",
       "      <th>2333117</th>\n",
       "      <td>4613120137</td>\n",
       "      <td>14</td>\n",
       "      <td>WEST BENGAL</td>\n",
       "      <td>KALYANI</td>\n",
       "      <td>CHAKDAHA MODEL SCHOOL</td>\n",
       "      <td>461312</td>\n",
       "    </tr>\n",
       "    <tr>\n",
       "      <th>2333118</th>\n",
       "      <td>4613120138</td>\n",
       "      <td>179</td>\n",
       "      <td>WEST BENGAL</td>\n",
       "      <td>KALYANI</td>\n",
       "      <td>CHAKDAHA MODEL SCHOOL</td>\n",
       "      <td>461312</td>\n",
       "    </tr>\n",
       "    <tr>\n",
       "      <th>2333119</th>\n",
       "      <td>4613120139</td>\n",
       "      <td>91</td>\n",
       "      <td>WEST BENGAL</td>\n",
       "      <td>KALYANI</td>\n",
       "      <td>CHAKDAHA MODEL SCHOOL</td>\n",
       "      <td>461312</td>\n",
       "    </tr>\n",
       "  </tbody>\n",
       "</table>\n",
       "</div>"
      ],
      "text/plain": [
       "         dummy_srlno  marks        state     city            center_name  \\\n",
       "2333115   4613120135    279  WEST BENGAL  KALYANI  CHAKDAHA MODEL SCHOOL   \n",
       "2333116   4613120136    102  WEST BENGAL  KALYANI  CHAKDAHA MODEL SCHOOL   \n",
       "2333117   4613120137     14  WEST BENGAL  KALYANI  CHAKDAHA MODEL SCHOOL   \n",
       "2333118   4613120138    179  WEST BENGAL  KALYANI  CHAKDAHA MODEL SCHOOL   \n",
       "2333119   4613120139     91  WEST BENGAL  KALYANI  CHAKDAHA MODEL SCHOOL   \n",
       "\n",
       "         center_number  \n",
       "2333115         461312  \n",
       "2333116         461312  \n",
       "2333117         461312  \n",
       "2333118         461312  \n",
       "2333119         461312  "
      ]
     },
     "execution_count": 4,
     "metadata": {},
     "output_type": "execute_result"
    }
   ],
   "source": [
    "nt.tail()"
   ]
  },
  {
   "cell_type": "code",
   "execution_count": 5,
   "id": "236597a8",
   "metadata": {
    "scrolled": true
   },
   "outputs": [
    {
     "data": {
      "text/html": [
       "<div>\n",
       "<style scoped>\n",
       "    .dataframe tbody tr th:only-of-type {\n",
       "        vertical-align: middle;\n",
       "    }\n",
       "\n",
       "    .dataframe tbody tr th {\n",
       "        vertical-align: top;\n",
       "    }\n",
       "\n",
       "    .dataframe thead th {\n",
       "        text-align: right;\n",
       "    }\n",
       "</style>\n",
       "<table border=\"1\" class=\"dataframe\">\n",
       "  <thead>\n",
       "    <tr style=\"text-align: right;\">\n",
       "      <th></th>\n",
       "      <th>dummy_srlno</th>\n",
       "      <th>marks</th>\n",
       "      <th>center_number</th>\n",
       "    </tr>\n",
       "  </thead>\n",
       "  <tbody>\n",
       "    <tr>\n",
       "      <th>count</th>\n",
       "      <td>2.333120e+06</td>\n",
       "      <td>2.333120e+06</td>\n",
       "      <td>2.333120e+06</td>\n",
       "    </tr>\n",
       "    <tr>\n",
       "      <th>mean</th>\n",
       "      <td>3.224024e+09</td>\n",
       "      <td>2.171572e+02</td>\n",
       "      <td>3.224023e+05</td>\n",
       "    </tr>\n",
       "    <tr>\n",
       "      <th>std</th>\n",
       "      <td>1.049597e+09</td>\n",
       "      <td>1.662403e+02</td>\n",
       "      <td>1.049597e+05</td>\n",
       "    </tr>\n",
       "    <tr>\n",
       "      <th>min</th>\n",
       "      <td>1.101010e+09</td>\n",
       "      <td>-1.800000e+02</td>\n",
       "      <td>1.101010e+05</td>\n",
       "    </tr>\n",
       "    <tr>\n",
       "      <th>25%</th>\n",
       "      <td>2.602020e+09</td>\n",
       "      <td>8.700000e+01</td>\n",
       "      <td>2.602020e+05</td>\n",
       "    </tr>\n",
       "    <tr>\n",
       "      <th>50%</th>\n",
       "      <td>3.111190e+09</td>\n",
       "      <td>1.630000e+02</td>\n",
       "      <td>3.111190e+05</td>\n",
       "    </tr>\n",
       "    <tr>\n",
       "      <th>75%</th>\n",
       "      <td>4.122060e+09</td>\n",
       "      <td>3.130000e+02</td>\n",
       "      <td>4.122060e+05</td>\n",
       "    </tr>\n",
       "    <tr>\n",
       "      <th>max</th>\n",
       "      <td>9.914010e+09</td>\n",
       "      <td>7.200000e+02</td>\n",
       "      <td>9.914010e+05</td>\n",
       "    </tr>\n",
       "  </tbody>\n",
       "</table>\n",
       "</div>"
      ],
      "text/plain": [
       "        dummy_srlno         marks  center_number\n",
       "count  2.333120e+06  2.333120e+06   2.333120e+06\n",
       "mean   3.224024e+09  2.171572e+02   3.224023e+05\n",
       "std    1.049597e+09  1.662403e+02   1.049597e+05\n",
       "min    1.101010e+09 -1.800000e+02   1.101010e+05\n",
       "25%    2.602020e+09  8.700000e+01   2.602020e+05\n",
       "50%    3.111190e+09  1.630000e+02   3.111190e+05\n",
       "75%    4.122060e+09  3.130000e+02   4.122060e+05\n",
       "max    9.914010e+09  7.200000e+02   9.914010e+05"
      ]
     },
     "execution_count": 5,
     "metadata": {},
     "output_type": "execute_result"
    }
   ],
   "source": [
    "nt.describe()"
   ]
  },
  {
   "cell_type": "code",
   "execution_count": 6,
   "id": "48b437df",
   "metadata": {},
   "outputs": [
    {
     "data": {
      "text/plain": [
       "dummy_srlno      0\n",
       "marks            0\n",
       "state            0\n",
       "city             0\n",
       "center_name      0\n",
       "center_number    0\n",
       "dtype: int64"
      ]
     },
     "execution_count": 6,
     "metadata": {},
     "output_type": "execute_result"
    }
   ],
   "source": [
    "nt.isnull().sum()"
   ]
  },
  {
   "cell_type": "markdown",
   "id": "0fc7b855",
   "metadata": {},
   "source": [
    "#### This dataset has no missing values,this indicates that your data is clean and ready for further analysis without addressing missing values."
   ]
  },
  {
   "cell_type": "code",
   "execution_count": 7,
   "id": "6c1bb1c0",
   "metadata": {},
   "outputs": [
    {
     "name": "stdout",
     "output_type": "stream",
     "text": [
      "<class 'pandas.core.frame.DataFrame'>\n",
      "RangeIndex: 2333120 entries, 0 to 2333119\n",
      "Data columns (total 6 columns):\n",
      " #   Column         Dtype \n",
      "---  ------         ----- \n",
      " 0   dummy_srlno    int64 \n",
      " 1   marks          int64 \n",
      " 2   state          object\n",
      " 3   city           object\n",
      " 4   center_name    object\n",
      " 5   center_number  int64 \n",
      "dtypes: int64(3), object(3)\n",
      "memory usage: 106.8+ MB\n"
     ]
    }
   ],
   "source": [
    "nt.info()"
   ]
  },
  {
   "cell_type": "markdown",
   "id": "e65cc4a2",
   "metadata": {},
   "source": [
    "#### By this .info() , we have got the basic info about the data i.e data columns,dtypes,rangeindex, and the memory usage .\n",
    "\n",
    "#### Data Types\n",
    "* int64(3): This indicates that three of your columns contain integer values, which are numerical data.\n",
    "* object(3): This suggests that the remaining three columns contain data of the object type, which typically represents categorical or text data. \n",
    "\n",
    "#### Is working with categorical data is OK?\n",
    "* Yes, it's possible and often necessary to work with categorical data. However, many machine learning algorithms require numerical input, **so you might need to convert categorical data into a numerical format.**"
   ]
  },
  {
   "cell_type": "code",
   "execution_count": 8,
   "id": "28c048cb",
   "metadata": {},
   "outputs": [
    {
     "name": "stderr",
     "output_type": "stream",
     "text": [
      "C:\\Users\\hp\\AppData\\Local\\Temp\\ipykernel_18176\\1726515042.py:1: FutureWarning: The default value of numeric_only in DataFrame.skew is deprecated. In a future version, it will default to False. In addition, specifying 'numeric_only=None' is deprecated. Select only valid columns or specify the value of numeric_only to silence this warning.\n",
      "  nt.skew()\n"
     ]
    },
    {
     "data": {
      "text/plain": [
       "dummy_srlno      0.219211\n",
       "marks            0.983015\n",
       "center_number    0.219211\n",
       "dtype: float64"
      ]
     },
     "execution_count": 8,
     "metadata": {},
     "output_type": "execute_result"
    }
   ],
   "source": [
    "nt.skew()"
   ]
  },
  {
   "cell_type": "code",
   "execution_count": 9,
   "id": "79044d7c",
   "metadata": {},
   "outputs": [
    {
     "name": "stderr",
     "output_type": "stream",
     "text": [
      "C:\\Users\\hp\\AppData\\Local\\Temp\\ipykernel_18176\\1681000067.py:1: FutureWarning: The default value of numeric_only in DataFrame.kurt is deprecated. In a future version, it will default to False. In addition, specifying 'numeric_only=None' is deprecated. Select only valid columns or specify the value of numeric_only to silence this warning.\n",
      "  nt.kurtosis()\n"
     ]
    },
    {
     "data": {
      "text/plain": [
       "dummy_srlno      2.034652\n",
       "marks            0.054922\n",
       "center_number    2.034652\n",
       "dtype: float64"
      ]
     },
     "execution_count": 9,
     "metadata": {},
     "output_type": "execute_result"
    }
   ],
   "source": [
    "nt.kurtosis()"
   ]
  },
  {
   "cell_type": "code",
   "execution_count": 38,
   "id": "c1d13d04",
   "metadata": {
    "scrolled": true
   },
   "outputs": [
    {
     "data": {
      "text/plain": [
       "count    2.333120e+06\n",
       "mean     2.171572e+02\n",
       "std      1.662403e+02\n",
       "min     -1.800000e+02\n",
       "25%      8.700000e+01\n",
       "50%      1.630000e+02\n",
       "75%      3.130000e+02\n",
       "max      7.200000e+02\n",
       "Name: marks, dtype: float64"
      ]
     },
     "execution_count": 38,
     "metadata": {},
     "output_type": "execute_result"
    }
   ],
   "source": [
    "nt[\"marks\"].describe()"
   ]
  },
  {
   "cell_type": "code",
   "execution_count": 39,
   "id": "fb728912",
   "metadata": {},
   "outputs": [
    {
     "data": {
      "text/plain": [
       "(0.9830150500194315, 0.0549220930092158, 163.0)"
      ]
     },
     "execution_count": 39,
     "metadata": {},
     "output_type": "execute_result"
    }
   ],
   "source": [
    "nt[\"marks\"].skew(),nt[\"marks\"].kurtosis(),nt[\"marks\"].median()"
   ]
  },
  {
   "cell_type": "code",
   "execution_count": 33,
   "id": "af227ec3",
   "metadata": {
    "scrolled": true
   },
   "outputs": [
    {
     "data": {
      "image/png": "[encoded data removed]",
      "text/plain": [
       "<Figure size 640x480 with 1 Axes>"
      ]
     },
     "metadata": {},
     "output_type": "display_data"
    }
   ],
   "source": [
    "import matplotlib.pyplot as plt\n",
    "import seaborn as sns\n",
    "sns.histplot(nt['marks'],kde=True)\n",
    "plt.show()"
   ]
  },
  {
   "cell_type": "markdown",
   "id": "63a70f40",
   "metadata": {},
   "source": [
    "### Graphical Analysis of above graphs:\n",
    "\n",
    "1. Summary Statistics:\n",
    "* Mean: 217.18 - The average mark is 217.18.\n",
    "* Median: 163 - The middle value of the marks is 163, suggesting that half the students scored below this mark and half scored above.\n",
    "* Standard Deviation: 166 - The data points are spread out on average by 166 marks from the mean. This indicates a relatively high degree of variability in the marks.\n",
    "* Skewness: 0.983 - The distribution of marks is positively skewed, meaning the tail is longer on the right side. There are more low marks than high marks, and a few students scored exceptionally high. The data is not symmetrical.\n",
    "* Kurtosis: 0.055 - (Low kurtosis)The distribution is slightly platykurtic, indicating a flatter peak than a normal distribution.However, since the value is close to 0, the deviation from normality in terms of kurtosis is not very pronounced.\n",
    "\n",
    "* In essence, the data is approximately normally distributed with respect to its tail behavior\n",
    "\n",
    "2. Outliers:\n",
    "* Upper Outlier Boundary: 652 - Any mark above 652 is considered an outlier. This suggests that there might be a few students with exceptionally high marks.\n",
    "\n",
    "3. Interpretation\n",
    "The data suggests that the marks distribution is not symmetrical(normal). There are more students scoring lower marks, and the distribution is flatter than a normal curve. The presence of an upper outlier boundary indicates that there might be some extremely high scores that are pulling the mean to the right."
   ]
  },
  {
   "cell_type": "code",
   "execution_count": 44,
   "id": "e40353da",
   "metadata": {},
   "outputs": [
    {
     "data": {
      "text/plain": [
       "DELHI/NEW DELHI    66090\n",
       "JAIPUR             55124\n",
       "PATNA              48643\n",
       "LUCKNOW            34238\n",
       "INDORE             29245\n",
       "                   ...  \n",
       "SINGAPORE             53\n",
       "KUALA LUMPUR          21\n",
       "LAGOS                 14\n",
       "COLOMBO                9\n",
       "BANGKOK                8\n",
       "Name: city, Length: 567, dtype: int64"
      ]
     },
     "execution_count": 44,
     "metadata": {},
     "output_type": "execute_result"
    }
   ],
   "source": [
    "nt[\"city\"].value_counts()"
   ]
  },
  {
   "cell_type": "code",
   "execution_count": 45,
   "id": "92b9f061",
   "metadata": {},
   "outputs": [
    {
     "data": {
      "text/plain": [
       "UTTAR PRADESH                       332626\n",
       "MAHARASHTRA                         275245\n",
       "RAJASTHAN                           193129\n",
       "TAMIL NADU                          153702\n",
       "KARNATAKA                           150894\n",
       "KERALA                              138545\n",
       "BIHAR                               136191\n",
       "MADHYA PRADESH                      130238\n",
       "WEST BENGAL                         117320\n",
       "GUJARAT                              86952\n",
       "TELANGANA                            77892\n",
       "DELHI                                66090\n",
       "ODISHA                               64310\n",
       "ANDHRA PRADESH                       63842\n",
       "HARYANA                              54861\n",
       "JAMMU AND KASHMIR                    47551\n",
       "ASSAM                                44272\n",
       "CHHATTISGARH                         44241\n",
       "JHARKHAND                            34401\n",
       "PUNJAB                               26573\n",
       "UTTARAKHAND                          21989\n",
       "HIMACHAL PRADESH                     19062\n",
       "MANIPUR                               8946\n",
       "PUDUCHERRY(UT)                        5810\n",
       "TRIPURA                               5098\n",
       "GOA                                   4930\n",
       "ARUNACHAL PRADESH                     4774\n",
       "OUTSIDE-INDIA                         4750\n",
       "MEGHALAYA                             3757\n",
       "NAGALAND                              3703\n",
       "CHANDIGARH(UT)                        3530\n",
       "MIZORAM                               2569\n",
       "SIKKIM                                1444\n",
       "DADRA AND NAGAR HAVELI (UT)           1207\n",
       "ANDAMAN AND NICOBAR ISLANDS (UT)      1025\n",
       "DAMAN AND DIU (UT)                     769\n",
       "LADAKH(UT)                             715\n",
       "LAKSHADWEEP (UT)                       167\n",
       "Name: state, dtype: int64"
      ]
     },
     "execution_count": 45,
     "metadata": {},
     "output_type": "execute_result"
    }
   ],
   "source": [
    "nt[\"state\"].value_counts()"
   ]
  },
  {
   "cell_type": "code",
   "execution_count": 46,
   "id": "bd5d1765",
   "metadata": {},
   "outputs": [
    {
     "data": {
      "text/plain": [
       "DAV PUBLIC SCHOOL                                            25779\n",
       "DELHI PUBLIC SCHOOL                                          19783\n",
       "PODAR INTERNATIONAL SCHOOL                                    9507\n",
       "ARMY PUBLIC SCHOOL                                            7885\n",
       "KENDRIYA VIDYALAYA                                            6047\n",
       "                                                             ...  \n",
       "ALPHA ENGLISH HIGHER SECONDARY SCHOOL                           62\n",
       "GLOBAL INDIAN INTERNATIONAL SCHOOL                              61\n",
       "GLOBAL INDIAN INTERNATIONAL SCHOOL, KUALALUMPUR, MALAYSIA       21\n",
       "INDIAN LANGUAGE SCHOOL                                          14\n",
       "SWAMI VIVEKANANDA GULTURAL GENTRE,                               9\n",
       "Name: center_name, Length: 4403, dtype: int64"
      ]
     },
     "execution_count": 46,
     "metadata": {},
     "output_type": "execute_result"
    }
   ],
   "source": [
    "nt[\"center_name\"].value_counts()"
   ]
  },
  {
   "cell_type": "code",
   "execution_count": 47,
   "id": "6afac9c8",
   "metadata": {},
   "outputs": [
    {
     "name": "stdout",
     "output_type": "stream",
     "text": [
      "                                  dummy_srlno   marks    city  center_name  \\\n",
      "state                                                                        \n",
      "ANDAMAN AND NICOBAR ISLANDS (UT)         1025    1025    1025         1025   \n",
      "ANDHRA PRADESH                          63842   63842   63842        63842   \n",
      "ARUNACHAL PRADESH                        4774    4774    4774         4774   \n",
      "ASSAM                                   44272   44272   44272        44272   \n",
      "BIHAR                                  136191  136191  136191       136191   \n",
      "CHANDIGARH(UT)                           3530    3530    3530         3530   \n",
      "CHHATTISGARH                            44241   44241   44241        44241   \n",
      "DADRA AND NAGAR HAVELI (UT)              1207    1207    1207         1207   \n",
      "DAMAN AND DIU (UT)                        769     769     769          769   \n",
      "DELHI                                   66090   66090   66090        66090   \n",
      "GOA                                      4930    4930    4930         4930   \n",
      "GUJARAT                                 86952   86952   86952        86952   \n",
      "HARYANA                                 54861   54861   54861        54861   \n",
      "HIMACHAL PRADESH                        19062   19062   19062        19062   \n",
      "JAMMU AND KASHMIR                       47551   47551   47551        47551   \n",
      "JHARKHAND                               34401   34401   34401        34401   \n",
      "KARNATAKA                              150894  150894  150894       150894   \n",
      "KERALA                                 138545  138545  138545       138545   \n",
      "LADAKH(UT)                                715     715     715          715   \n",
      "LAKSHADWEEP (UT)                          167     167     167          167   \n",
      "MADHYA PRADESH                         130238  130238  130238       130238   \n",
      "MAHARASHTRA                            275245  275245  275245       275245   \n",
      "MANIPUR                                  8946    8946    8946         8946   \n",
      "MEGHALAYA                                3757    3757    3757         3757   \n",
      "MIZORAM                                  2569    2569    2569         2569   \n",
      "NAGALAND                                 3703    3703    3703         3703   \n",
      "ODISHA                                  64310   64310   64310        64310   \n",
      "OUTSIDE-INDIA                            4750    4750    4750         4750   \n",
      "PUDUCHERRY(UT)                           5810    5810    5810         5810   \n",
      "PUNJAB                                  26573   26573   26573        26573   \n",
      "RAJASTHAN                              193129  193129  193129       193129   \n",
      "SIKKIM                                   1444    1444    1444         1444   \n",
      "TAMIL NADU                             153702  153702  153702       153702   \n",
      "TELANGANA                               77892   77892   77892        77892   \n",
      "TRIPURA                                  5098    5098    5098         5098   \n",
      "UTTAR PRADESH                          332626  332626  332626       332626   \n",
      "UTTARAKHAND                             21989   21989   21989        21989   \n",
      "WEST BENGAL                            117320  117320  117320       117320   \n",
      "\n",
      "                                  center_number  \n",
      "state                                            \n",
      "ANDAMAN AND NICOBAR ISLANDS (UT)           1025  \n",
      "ANDHRA PRADESH                            63842  \n",
      "ARUNACHAL PRADESH                          4774  \n",
      "ASSAM                                     44272  \n",
      "BIHAR                                    136191  \n",
      "CHANDIGARH(UT)                             3530  \n",
      "CHHATTISGARH                              44241  \n",
      "DADRA AND NAGAR HAVELI (UT)                1207  \n",
      "DAMAN AND DIU (UT)                          769  \n",
      "DELHI                                     66090  \n",
      "GOA                                        4930  \n",
      "GUJARAT                                   86952  \n",
      "HARYANA                                   54861  \n",
      "HIMACHAL PRADESH                          19062  \n",
      "JAMMU AND KASHMIR                         47551  \n",
      "JHARKHAND                                 34401  \n",
      "KARNATAKA                                150894  \n",
      "KERALA                                   138545  \n",
      "LADAKH(UT)                                  715  \n",
      "LAKSHADWEEP (UT)                            167  \n",
      "MADHYA PRADESH                           130238  \n",
      "MAHARASHTRA                              275245  \n",
      "MANIPUR                                    8946  \n",
      "MEGHALAYA                                  3757  \n",
      "MIZORAM                                    2569  \n",
      "NAGALAND                                   3703  \n",
      "ODISHA                                    64310  \n",
      "OUTSIDE-INDIA                              4750  \n",
      "PUDUCHERRY(UT)                             5810  \n",
      "PUNJAB                                    26573  \n",
      "RAJASTHAN                                193129  \n",
      "SIKKIM                                     1444  \n",
      "TAMIL NADU                               153702  \n",
      "TELANGANA                                 77892  \n",
      "TRIPURA                                    5098  \n",
      "UTTAR PRADESH                            332626  \n",
      "UTTARAKHAND                               21989  \n",
      "WEST BENGAL                              117320  \n"
     ]
    }
   ],
   "source": [
    "grouped = nt.groupby(\"state\").count()\n",
    "print(grouped)"
   ]
  },
  {
   "cell_type": "code",
   "execution_count": 48,
   "id": "7ee9117c",
   "metadata": {},
   "outputs": [
    {
     "ename": "KeyError",
     "evalue": "'marks'",
     "output_type": "error",
     "traceback": [
      "\u001b[1;31m---------------------------------------------------------------------------\u001b[0m",
      "\u001b[1;31mKeyError\u001b[0m                                  Traceback (most recent call last)",
      "File \u001b[1;32m~\\anaconda3\\lib\\site-packages\\pandas\\core\\indexes\\base.py:3802\u001b[0m, in \u001b[0;36mIndex.get_loc\u001b[1;34m(self, key, method, tolerance)\u001b[0m\n\u001b[0;32m   3801\u001b[0m \u001b[38;5;28;01mtry\u001b[39;00m:\n\u001b[1;32m-> 3802\u001b[0m     \u001b[38;5;28;01mreturn\u001b[39;00m \u001b[38;5;28;43mself\u001b[39;49m\u001b[38;5;241;43m.\u001b[39;49m\u001b[43m_engine\u001b[49m\u001b[38;5;241;43m.\u001b[39;49m\u001b[43mget_loc\u001b[49m\u001b[43m(\u001b[49m\u001b[43mcasted_key\u001b[49m\u001b[43m)\u001b[49m\n\u001b[0;32m   3803\u001b[0m \u001b[38;5;28;01mexcept\u001b[39;00m \u001b[38;5;167;01mKeyError\u001b[39;00m \u001b[38;5;28;01mas\u001b[39;00m err:\n",
      "File \u001b[1;32m~\\anaconda3\\lib\\site-packages\\pandas\\_libs\\index.pyx:138\u001b[0m, in \u001b[0;36mpandas._libs.index.IndexEngine.get_loc\u001b[1;34m()\u001b[0m\n",
      "File \u001b[1;32m~\\anaconda3\\lib\\site-packages\\pandas\\_libs\\index.pyx:165\u001b[0m, in \u001b[0;36mpandas._libs.index.IndexEngine.get_loc\u001b[1;34m()\u001b[0m\n",
      "File \u001b[1;32mpandas\\_libs\\hashtable_class_helper.pxi:5745\u001b[0m, in \u001b[0;36mpandas._libs.hashtable.PyObjectHashTable.get_item\u001b[1;34m()\u001b[0m\n",
      "File \u001b[1;32mpandas\\_libs\\hashtable_class_helper.pxi:5753\u001b[0m, in \u001b[0;36mpandas._libs.hashtable.PyObjectHashTable.get_item\u001b[1;34m()\u001b[0m\n",
      "\u001b[1;31mKeyError\u001b[0m: 'marks'",
      "\nThe above exception was the direct cause of the following exception:\n",
      "\u001b[1;31mKeyError\u001b[0m                                  Traceback (most recent call last)",
      "Cell \u001b[1;32mIn[48], line 1\u001b[0m\n\u001b[1;32m----> 1\u001b[0m df \u001b[38;5;241m=\u001b[39m df[\u001b[43mdf\u001b[49m\u001b[43m[\u001b[49m\u001b[38;5;124;43m\"\u001b[39;49m\u001b[38;5;124;43mmarks\u001b[39;49m\u001b[38;5;124;43m\"\u001b[39;49m\u001b[43m]\u001b[49m\u001b[38;5;241m==\u001b[39m\u001b[38;5;241m720\u001b[39m]\n\u001b[0;32m      2\u001b[0m df\n",
      "File \u001b[1;32m~\\anaconda3\\lib\\site-packages\\pandas\\core\\frame.py:3807\u001b[0m, in \u001b[0;36mDataFrame.__getitem__\u001b[1;34m(self, key)\u001b[0m\n\u001b[0;32m   3805\u001b[0m \u001b[38;5;28;01mif\u001b[39;00m \u001b[38;5;28mself\u001b[39m\u001b[38;5;241m.\u001b[39mcolumns\u001b[38;5;241m.\u001b[39mnlevels \u001b[38;5;241m>\u001b[39m \u001b[38;5;241m1\u001b[39m:\n\u001b[0;32m   3806\u001b[0m     \u001b[38;5;28;01mreturn\u001b[39;00m \u001b[38;5;28mself\u001b[39m\u001b[38;5;241m.\u001b[39m_getitem_multilevel(key)\n\u001b[1;32m-> 3807\u001b[0m indexer \u001b[38;5;241m=\u001b[39m \u001b[38;5;28;43mself\u001b[39;49m\u001b[38;5;241;43m.\u001b[39;49m\u001b[43mcolumns\u001b[49m\u001b[38;5;241;43m.\u001b[39;49m\u001b[43mget_loc\u001b[49m\u001b[43m(\u001b[49m\u001b[43mkey\u001b[49m\u001b[43m)\u001b[49m\n\u001b[0;32m   3808\u001b[0m \u001b[38;5;28;01mif\u001b[39;00m is_integer(indexer):\n\u001b[0;32m   3809\u001b[0m     indexer \u001b[38;5;241m=\u001b[39m [indexer]\n",
      "File \u001b[1;32m~\\anaconda3\\lib\\site-packages\\pandas\\core\\indexes\\base.py:3804\u001b[0m, in \u001b[0;36mIndex.get_loc\u001b[1;34m(self, key, method, tolerance)\u001b[0m\n\u001b[0;32m   3802\u001b[0m     \u001b[38;5;28;01mreturn\u001b[39;00m \u001b[38;5;28mself\u001b[39m\u001b[38;5;241m.\u001b[39m_engine\u001b[38;5;241m.\u001b[39mget_loc(casted_key)\n\u001b[0;32m   3803\u001b[0m \u001b[38;5;28;01mexcept\u001b[39;00m \u001b[38;5;167;01mKeyError\u001b[39;00m \u001b[38;5;28;01mas\u001b[39;00m err:\n\u001b[1;32m-> 3804\u001b[0m     \u001b[38;5;28;01mraise\u001b[39;00m \u001b[38;5;167;01mKeyError\u001b[39;00m(key) \u001b[38;5;28;01mfrom\u001b[39;00m \u001b[38;5;21;01merr\u001b[39;00m\n\u001b[0;32m   3805\u001b[0m \u001b[38;5;28;01mexcept\u001b[39;00m \u001b[38;5;167;01mTypeError\u001b[39;00m:\n\u001b[0;32m   3806\u001b[0m     \u001b[38;5;66;03m# If we have a listlike key, _check_indexing_error will raise\u001b[39;00m\n\u001b[0;32m   3807\u001b[0m     \u001b[38;5;66;03m#  InvalidIndexError. Otherwise we fall through and re-raise\u001b[39;00m\n\u001b[0;32m   3808\u001b[0m     \u001b[38;5;66;03m#  the TypeError.\u001b[39;00m\n\u001b[0;32m   3809\u001b[0m     \u001b[38;5;28mself\u001b[39m\u001b[38;5;241m.\u001b[39m_check_indexing_error(key)\n",
      "\u001b[1;31mKeyError\u001b[0m: 'marks'"
     ]
    }
   ],
   "source": [
    "df = df[df[\"marks\"]==720]\n",
    "df"
   ]
  },
  {
   "cell_type": "code",
   "execution_count": null,
   "id": "4313f27d",
   "metadata": {},
   "outputs": [],
   "source": []
  }
 ],
 "metadata": {
  "kernelspec": {
   "display_name": "Python 3 (ipykernel)",
   "language": "python",
   "name": "python3"
  },
  "language_info": {
   "codemirror_mode": {
    "name": "ipython",
    "version": 3
   },
   "file_extension": ".py",
   "mimetype": "text/x-python",
   "name": "python",
   "nbconvert_exporter": "python",
   "pygments_lexer": "ipython3",
   "version": "3.10.9"
  }
 },
 "nbformat": 4,
 "nbformat_minor": 5
}
